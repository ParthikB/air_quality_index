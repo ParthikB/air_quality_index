{
 "cells": [
  {
   "cell_type": "code",
   "execution_count": 43,
   "metadata": {},
   "outputs": [],
   "source": [
    "import os, time\n",
    "import requests\n",
    "from tqdm import tqdm\n",
    "import pandas as pd\n",
    "from datetime import datetime"
   ]
  },
  {
   "cell_type": "code",
   "execution_count": 2,
   "metadata": {},
   "outputs": [],
   "source": [
    "def retrieve_html(verbose=False):\n",
    "    for year in tqdm(range(2013, 2020)):\n",
    "        for month in tqdm(range(1, 13), leave=False):\n",
    "            if month < 10: month = '0'+str(month)\n",
    "            global url\n",
    "            url = f'https://en.tutiempo.net/climate/{month}-{year}/ws-421810.html'\n",
    "#             print(url)\n",
    "            url_text = requests.get(url)            \n",
    "            text_utf = url_text.text.encode('utf-8')\n",
    "            \n",
    "            dir = f'database/html_data/{year}'\n",
    "            fname = dir + f'/{month}.html'\n",
    "            if not os.path.exists(dir):\n",
    "                os.makedirs(dir)\n",
    "            \n",
    "            with open(fname, 'wb') as f:\n",
    "                f.write(text_utf)"
   ]
  },
  {
   "cell_type": "code",
   "execution_count": 64,
   "metadata": {},
   "outputs": [],
   "source": [
    "def url_to_df(url):\n",
    "\n",
    "    url = f'https://en.tutiempo.net/climate/{month}-{year}/ws-421810.html'\n",
    "    url_text = requests.get(url)            \n",
    "    text_utf = url_text.text.encode('utf-8')\n",
    "\n",
    "    df = pd.read_html(text_utf)[2][:31] # this returns a list of all the tables in the page, but we only want a specific one with the index 2. Upto 31st row.\n",
    "\n",
    "    \n",
    "    for d in range(len(df.Day)):\n",
    "        day = int(df.Day[d])\n",
    "        timestamp = datetime(year, month, day).timestamp()\n",
    "        df.Day[d] = timestamp\n",
    "\n",
    "    df.set_index('Day', inplace=True) \n",
    "\n",
    "    return df\n",
    "\n",
    "\n",
    "\n",
    "def web_data_to_dataframe():\n",
    "    master_df = pd.DataFrame()\n",
    "    \n",
    "    for year in tqdm(range(2013, 2020)):\n",
    "        for month in tqdm(range(1, 13), leave=False):\n",
    "            if month < 10: month = '0'+str(month) # converting the month format to sync with the url format\n",
    "            url       = f'https://en.tutiempo.net/climate/{month}-{year}/ws-421810.html'\n",
    "            \n",
    "            df        = url_to_df(url)\n",
    "            master_df = pd.concat([master_df, df])\n",
    "    \n",
    "    return master_df"
   ]
  },
  {
   "cell_type": "code",
   "execution_count": null,
   "metadata": {},
   "outputs": [],
   "source": [
    "if __name__ == '__main__':\n",
    "    start = time.time()\n",
    "\n",
    "    # Retrieving the Data\n",
    "    df = web_data_to_dataframe()\n",
    "    \n",
    "    # Exporting the CSV\n",
    "    df.to_csv(f'database/master_data.csv')\n",
    "    \n",
    "    \n",
    "    print('Time Taken :', time.time()-start, 'sec.')"
   ]
  }
 ],
 "metadata": {
  "kernelspec": {
   "display_name": "Python 3",
   "language": "python",
   "name": "python3"
  },
  "language_info": {
   "codemirror_mode": {
    "name": "ipython",
    "version": 3
   },
   "file_extension": ".py",
   "mimetype": "text/x-python",
   "name": "python",
   "nbconvert_exporter": "python",
   "pygments_lexer": "ipython3",
   "version": "3.7.6"
  }
 },
 "nbformat": 4,
 "nbformat_minor": 4
}
